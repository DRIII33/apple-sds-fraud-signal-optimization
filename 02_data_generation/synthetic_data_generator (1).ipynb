{
  "nbformat": 4,
  "nbformat_minor": 0,
  "metadata": {
    "colab": {
      "provenance": []
    },
    "kernelspec": {
      "name": "python3",
      "display_name": "Python 3"
    },
    "language_info": {
      "name": "python"
    }
  },
  "cells": [
    {
      "cell_type": "markdown",
      "source": [
        "####**Project Title:**\n",
        "###**Apple Wallet Fraud Signal Simulation**\n",
        "\n",
        "\n",
        "\n",
        "####**Phase 1:**\n",
        "####**Synthetic Data Generation**\n",
        "\n",
        "####**Install Packages**"
      ],
      "metadata": {
        "id": "5yA0prkU4caw"
      }
    },
    {
      "cell_type": "code",
      "execution_count": 1,
      "metadata": {
        "colab": {
          "base_uri": "https://localhost:8080/"
        },
        "id": "a7SayUez2vAz",
        "outputId": "d6a2defb-8b98-4392-facb-8445dcef2367"
      },
      "outputs": [
        {
          "output_type": "stream",
          "name": "stdout",
          "text": [
            "Collecting faker\n",
            "  Downloading faker-37.8.0-py3-none-any.whl.metadata (15 kB)\n",
            "Requirement already satisfied: tzdata in /usr/local/lib/python3.12/dist-packages (from faker) (2025.2)\n",
            "Downloading faker-37.8.0-py3-none-any.whl (2.0 MB)\n",
            "\u001b[2K   \u001b[90m━━━━━━━━━━━━━━━━━━━━━━━━━━━━━━━━━━━━━━━━\u001b[0m \u001b[32m2.0/2.0 MB\u001b[0m \u001b[31m17.2 MB/s\u001b[0m eta \u001b[36m0:00:00\u001b[0m\n",
            "\u001b[?25hInstalling collected packages: faker\n",
            "Successfully installed faker-37.8.0\n",
            "Requirement already satisfied: pandas in /usr/local/lib/python3.12/dist-packages (2.2.2)\n",
            "Requirement already satisfied: numpy>=1.26.0 in /usr/local/lib/python3.12/dist-packages (from pandas) (2.0.2)\n",
            "Requirement already satisfied: python-dateutil>=2.8.2 in /usr/local/lib/python3.12/dist-packages (from pandas) (2.9.0.post0)\n",
            "Requirement already satisfied: pytz>=2020.1 in /usr/local/lib/python3.12/dist-packages (from pandas) (2025.2)\n",
            "Requirement already satisfied: tzdata>=2022.7 in /usr/local/lib/python3.12/dist-packages (from pandas) (2025.2)\n",
            "Requirement already satisfied: six>=1.5 in /usr/local/lib/python3.12/dist-packages (from python-dateutil>=2.8.2->pandas) (1.17.0)\n"
          ]
        }
      ],
      "source": [
        "#Install Packages\n",
        "!pip install faker\n",
        "!pip install pandas"
      ]
    },
    {
      "cell_type": "code",
      "source": [
        "import pandas as pd\n",
        "import numpy as np\n",
        "import random\n",
        "from faker import Faker\n",
        "\n",
        "fake = Faker()\n",
        "\n",
        "# Set seed for reproducibility\n",
        "np.random.seed(42)\n",
        "\n",
        "# Parameters\n",
        "n = 10000  # Number of transactions\n",
        "\n",
        "# Generate synthetic data\n",
        "data = {\n",
        "    \"transaction_id\": [f\"TXN{100000+i}\" for i in range(n)],\n",
        "    \"user_id\": [f\"USR{random.randint(1000, 9999)}\" for _ in range(n)],\n",
        "    \"timestamp\": pd.date_range(start=\"2023-01-01\", periods=n, freq=\"T\"),\n",
        "    \"amount_usd\": np.round(np.random.exponential(scale=50, size=n), 2),\n",
        "    \"merchant_category\": np.random.choice([\"electronics\", \"groceries\", \"travel\", \"luxury\", \"gaming\", \"utilities\"], size=n),\n",
        "    \"device_type\": np.random.choice([\"iPhone\", \"iPad\", \"Mac\", \"Watch\"], size=n),\n",
        "    \"location\": [fake.city() for _ in range(n)],\n",
        "    \"is_foreign\": np.random.choice([0, 1], size=n, p=[0.85, 0.15]),\n",
        "    \"is_night\": np.random.choice([0, 1], size=n, p=[0.7, 0.3]),\n",
        "    \"prior_fraud_flag\": np.random.choice([0, 1], size=n, p=[0.95, 0.05]),\n",
        "    \"velocity_score\": np.round(np.random.normal(loc=0.5, scale=0.2, size=n), 2),\n",
        "    \"fraud_flag\": np.random.choice([0, 1], size=n, p=[0.985, 0.015])  # ~1.5% fraud rate\n",
        "}\n",
        "\n",
        "df = pd.DataFrame(data)\n",
        "\n",
        "# Export to CSV\n",
        "df.to_csv(\"apple_wallet_synthetic_transactions.csv\", index=False)\n"
      ],
      "metadata": {
        "colab": {
          "base_uri": "https://localhost:8080/"
        },
        "id": "b_YnNnG_5JKY",
        "outputId": "bb09e1ea-d9c4-4b15-ee89-04ad36642e6d"
      },
      "execution_count": 2,
      "outputs": [
        {
          "output_type": "stream",
          "name": "stderr",
          "text": [
            "/tmp/ipython-input-439730052.py:18: FutureWarning: 'T' is deprecated and will be removed in a future version, please use 'min' instead.\n",
            "  \"timestamp\": pd.date_range(start=\"2023-01-01\", periods=n, freq=\"T\"),\n"
          ]
        }
      ]
    },
    {
      "cell_type": "code",
      "source": [
        "import pandas as pd\n",
        "import numpy as np\n",
        "import random\n",
        "from faker import Faker\n",
        "\n",
        "fake = Faker()\n",
        "np.random.seed(42)\n",
        "\n",
        "# Parameters\n",
        "n = 10000  # Number of transactions\n",
        "\n",
        "# Merchant pool\n",
        "merchant_ids = [f\"M{str(i).zfill(4)}\" for i in range(1, 201)]  # 200 merchants\n",
        "\n",
        "# Payment methods and channels\n",
        "payment_methods = [\"Apple Pay\", \"Wallet Transfer\", \"Peer-to-Peer\", \"Subscription\"]\n",
        "transaction_channels = [\"in-app\", \"web\", \"NFC\", \"QR scan\"]\n",
        "\n",
        "# Generate synthetic data\n",
        "data = {\n",
        "    \"transaction_id\": [f\"TXN{100000+i}\" for i in range(n)],\n",
        "    \"user_id\": [f\"USR{random.randint(1000, 9999)}\" for _ in range(n)],\n",
        "    \"timestamp\": pd.date_range(start=\"2023-01-01\", periods=n, freq=\"T\"),\n",
        "    \"amount_usd\": np.round(np.random.exponential(scale=50, size=n), 2),\n",
        "    \"merchant_category\": np.random.choice([\"electronics\", \"groceries\", \"travel\", \"luxury\", \"gaming\", \"utilities\"], size=n),\n",
        "    \"merchant_id\": np.random.choice(merchant_ids, size=n),\n",
        "    \"device_type\": np.random.choice([\"iPhone\", \"iPad\", \"Mac\", \"Watch\"], size=n),\n",
        "    \"location\": [fake.city() for _ in range(n)],\n",
        "    \"is_foreign\": np.random.choice([0, 1], size=n, p=[0.85, 0.15]),\n",
        "    \"is_night\": np.random.choice([0, 1], size=n, p=[0.7, 0.3]),\n",
        "    \"prior_fraud_flag\": np.random.choice([0, 1], size=n, p=[0.95, 0.05]),\n",
        "    \"velocity_score\": np.round(np.clip(np.random.normal(loc=0.5, scale=0.2, size=n), 0, 1.5), 2),\n",
        "    \"payment_method\": np.random.choice(payment_methods, size=n),\n",
        "    \"transaction_channel\": np.random.choice(transaction_channels, size=n),\n",
        "    \"fraud_flag\": np.random.choice([0, 1], size=n, p=[0.985, 0.015])\n",
        "}\n",
        "\n",
        "df = pd.DataFrame(data)\n",
        "\n",
        "# Export to CSV\n",
        "df.to_csv(\"apple_wallet_synthetic_transactions.csv\", index=False)\n"
      ],
      "metadata": {
        "colab": {
          "base_uri": "https://localhost:8080/"
        },
        "id": "KCbiL8pO7Yov",
        "outputId": "d88f76b6-242d-4aa7-a207-ddae329f8d4b"
      },
      "execution_count": 3,
      "outputs": [
        {
          "output_type": "stream",
          "name": "stderr",
          "text": [
            "/tmp/ipython-input-1399465487.py:23: FutureWarning: 'T' is deprecated and will be removed in a future version, please use 'min' instead.\n",
            "  \"timestamp\": pd.date_range(start=\"2023-01-01\", periods=n, freq=\"T\"),\n"
          ]
        }
      ]
    }
  ]
}